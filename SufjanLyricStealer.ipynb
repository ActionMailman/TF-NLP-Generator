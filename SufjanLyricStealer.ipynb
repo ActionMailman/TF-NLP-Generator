{
 "cells": [
  {
   "cell_type": "code",
   "execution_count": 1,
   "id": "wired-robert",
   "metadata": {},
   "outputs": [],
   "source": [
    "from azapi import AZlyrics\n",
    "from tqdm import tqdm"
   ]
  },
  {
   "cell_type": "code",
   "execution_count": 7,
   "id": "sublime-hindu",
   "metadata": {},
   "outputs": [],
   "source": [
    "api = AZlyrics()"
   ]
  },
  {
   "cell_type": "code",
   "execution_count": 11,
   "id": "moving-swift",
   "metadata": {},
   "outputs": [],
   "source": [
    "songs = api.getSongs('Sufjan Stevens')"
   ]
  },
  {
   "cell_type": "code",
   "execution_count": 30,
   "id": "compatible-peoples",
   "metadata": {},
   "outputs": [],
   "source": [
    "songs_list = list(songs.items())"
   ]
  },
  {
   "cell_type": "code",
   "execution_count": 51,
   "id": "surgical-turner",
   "metadata": {},
   "outputs": [
    {
     "data": {
      "text/plain": [
       "\"It's been a long, long time since I've memorized your face\\r\\nIt's been four hours now since I've wandered through your place\\r\\nAnd when I sleep on your couch I feel very safe\\r\\nAnd when you bring the blankets I cover up my face\\r\\nI do love you\\r\\nI do love you\\n\\r\\nAnd when you play guitar I listen to the strings buzz\\r\\nThe metal vibrates underneath your fingers\\r\\nAnd when you crochet I feel mesmerized and proud\\r\\nAnd I would say I love you, but saying it out loud is hard\\r\\nSo I won't say it at all\\r\\nAnd I won't stay very long\\r\\nBut you are the life I needed all along \\r\\nI think of you as my brother\\r\\nAlthough that sounds dumb\\r\\nWords are futile devices\""
      ]
     },
     "execution_count": 51,
     "metadata": {},
     "output_type": "execute_result"
    }
   ],
   "source": []
  },
  {
   "cell_type": "code",
   "execution_count": 52,
   "id": "above-danish",
   "metadata": {},
   "outputs": [
    {
     "name": "stderr",
     "output_type": "stream",
     "text": [
      "100%|████████████████████████████████████████████████████████████████████████████████| 121/121 [20:55<00:00, 10.38s/it]\n"
     ]
    }
   ],
   "source": [
    "for song in tqdm(range(121, len(songs_list))):\n",
    "    try:\n",
    "        api.getLyrics(url=songs_list[song][1][\"url\"], save=True)\n",
    "    except:\n",
    "        pass"
   ]
  },
  {
   "cell_type": "code",
   "execution_count": null,
   "id": "available-cursor",
   "metadata": {},
   "outputs": [],
   "source": []
  }
 ],
 "metadata": {
  "kernelspec": {
   "display_name": "Python 3",
   "language": "python",
   "name": "python3"
  },
  "language_info": {
   "codemirror_mode": {
    "name": "ipython",
    "version": 3
   },
   "file_extension": ".py",
   "mimetype": "text/x-python",
   "name": "python",
   "nbconvert_exporter": "python",
   "pygments_lexer": "ipython3",
   "version": "3.7.9"
  }
 },
 "nbformat": 4,
 "nbformat_minor": 5
}
